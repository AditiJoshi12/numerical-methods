{
 "cells": [
  {
   "cell_type": "markdown",
   "id": "8b6e9d1f",
   "metadata": {},
   "source": [
    "# Gaussian Elimination using partial pivoting"
   ]
  },
  {
   "cell_type": "markdown",
   "id": "3bbba81c",
   "metadata": {},
   "source": [
    "### Why do we need Partial Pivoting?\n",
    "### Why not use just Naive Gaussian Elimination?\n",
    "- Obvious problems occur when a pivot element is zero because the normalization step leads to division by zero.\n",
    "- Problems may also arise when the pivot element is close to, rather than exactly equal to, zero because if the magnitude of     the pivot element is small compared to the other elements, then round-off errors can be introduced.\n",
    "\n",
    "### How to solve this problem? Use Partial Pivoting.\n",
    "\n",
    "## What is Partial Pivoting?\n",
    "- Before each row is normalized, determine the largest available coefficient in the column below the pivot element\n",
    "- The rows can then be switched so that the largest element is the pivot element\n",
    "- This is called partial pivoting\n",
    "\n",
    "### Is there something called as Complete Pivoting then? Yes.\n",
    "- If columns as well as rows are searched for the largest element and then switched, the procedure is called complete pivoting\n",
    "\n",
    "### How frequently do we use Complete Pivoting? Rarely.\n",
    "- Complete pivoting is rarely used because switching columns changes the order of the x’s and, consequently, adds significant     and usually unjustified complexity to the computer program\n",
    "\n",
    "### Are there any other advantages of Partial Pivoting except handling division by zero case? Yes.\n",
    "- Aside from avoiding division by zero, pivoting also minimizes round-off error\n",
    "- It also serves as a partial remedy for ill-conditioning"
   ]
  },
  {
   "cell_type": "code",
   "execution_count": 107,
   "id": "65b8c47b",
   "metadata": {},
   "outputs": [],
   "source": [
    "#importing libraries\n",
    "\n",
    "import numpy as np"
   ]
  },
  {
   "cell_type": "code",
   "execution_count": 108,
   "id": "a495b40c",
   "metadata": {},
   "outputs": [
    {
     "name": "stdout",
     "output_type": "stream",
     "text": [
      "[[3.0000e-04 3.0000e+00 2.0001e+00]\n",
      " [1.0000e+00 1.0000e+00 1.0000e+00]]\n",
      "2\n"
     ]
    }
   ],
   "source": [
    "#please edit the matrix below \n",
    "\n",
    "a = np.array([[0.0003, 3.0000, 2.0001],[1.0000, 1.0000, 1.0000]])\n",
    "#a = np.array([[1.0, 2.0, 10.0], [1.1, 2.0, 10.4]])\n",
    "#a = np.array([[3.0,-0.1,-0.2,7.85],[0.1,7.0,-0.3,-19.3],[0.3,-0.2,10.0,71.4]])\n",
    "print(a)\n",
    "\n",
    "n = len(a)\n",
    "\n",
    "print(n)"
   ]
  },
  {
   "cell_type": "code",
   "execution_count": 109,
   "id": "68d9ba9c",
   "metadata": {},
   "outputs": [],
   "source": [
    "def gaussianelim(a):\n",
    "    \n",
    "    A = a.copy()\n",
    "    \n",
    "\n",
    "    #initialize x\n",
    "    x = np.zeros(n)\n",
    "\n",
    "    for i in range(n):\n",
    "        if A[i][i] != 0.0:           \n",
    "            for j in range(i+1, n):\n",
    "                factor = (A[j][i]/A[i][i])\n",
    "                A[j] -= (factor * A[i])\n",
    "\n",
    "    # Back Substitution\n",
    "    x[n-1] = np.round(A[n-1][n]/A[n-1][n-1])\n",
    "\n",
    "    for i in range(n-2,-1,-1):\n",
    "        x[i] = (A[i][n])  \n",
    "        for j in range(i+1,n):\n",
    "            x[i] -= (A[i][j]*x[j])\n",
    "    \n",
    "        x[i] /= A[i][i]\n",
    "    \n",
    "    return x"
   ]
  },
  {
   "cell_type": "code",
   "execution_count": 110,
   "id": "f2b567e9",
   "metadata": {},
   "outputs": [
    {
     "name": "stdout",
     "output_type": "stream",
     "text": [
      "X1 = -3333.000000\n",
      "X2 = 1.000000\n"
     ]
    }
   ],
   "source": [
    "#Solution using Gaussian Elimination Method\n",
    "\n",
    "x = gaussianelim(a)\n",
    "\n",
    "#we can also return the changed matrix A in the function and print it\n",
    "\n",
    "#print the solution\n",
    "for i in range(n):\n",
    "    print('X%d = %0.6f' %(i+1,x[i]))"
   ]
  },
  {
   "cell_type": "code",
   "execution_count": 91,
   "id": "74c0cc44",
   "metadata": {},
   "outputs": [
    {
     "name": "stdout",
     "output_type": "stream",
     "text": [
      "X1 = 0.333\tX2 = 0.667\t-0.020004000889184415\n",
      "\n",
      "\n",
      "X1 = 0.3334\tX2 = 0.6666\t-0.020004000889184415\n",
      "\n",
      "\n",
      "X1 = 0.33340\tX2 = 0.66663\t-0.020004000889184415\n",
      "\n",
      "\n",
      "X1 = 0.333400\tX2 = 0.666633\t-0.020004000889184415\n",
      "\n",
      "\n",
      "X1 = 0.3334000\tX2 = 0.6666333\t-0.020004000889184415\n",
      "\n",
      "\n"
     ]
    }
   ],
   "source": [
    "#print error\n",
    "\n",
    "#expected answer\n",
    "x1 = 1/3\n",
    "x2 = 2/3\n",
    "\n",
    "for i in range(n):\n",
    "    print('X%d = %0.3f' %(i+1,x[i]), end = '\\t')\n",
    "    \n",
    "print(100*(x1 - x[0])/x1)\n",
    "print('\\n')\n",
    "\n",
    "for i in range(n):\n",
    "    print('X%d = %0.4f' %(i+1,x[i]), end = '\\t')\n",
    "    \n",
    "print(100*(x1 - x[0])/x1)\n",
    "print('\\n')\n",
    "\n",
    "for i in range(n):\n",
    "    print('X%d = %0.5f' %(i+1,x[i]), end = '\\t')\n",
    "    \n",
    "print(100*(x1 - x[0])/x1)\n",
    "print('\\n')\n",
    "\n",
    "for i in range(n):\n",
    "    print('X%d = %0.6f' %(i+1,x[i]), end = '\\t')\n",
    "    \n",
    "print(100*(x1 - x[0])/x1)\n",
    "print('\\n')\n",
    "\n",
    "for i in range(n):\n",
    "    print('X%d = %0.7f' %(i+1,x[i]), end = '\\t')\n",
    "    \n",
    "print(100*(x1 - x[0])/x1)\n",
    "print('\\n')"
   ]
  },
  {
   "cell_type": "code",
   "execution_count": 50,
   "id": "1c29fae8",
   "metadata": {},
   "outputs": [],
   "source": [
    "def gaussian_elim_using_partial_pivoting(a):\n",
    "    \n",
    "    A = a.copy()\n",
    "\n",
    "    #initialize x\n",
    "    x = np.zeros(n)\n",
    "\n",
    "    for i in range(n):\n",
    "        \n",
    "        #forward elimination\n",
    "        #transforming the matrix into an upper triangular matrix\n",
    "        \n",
    "        #partial pivoting\n",
    "        #accomodating the case when the elements along the diagonal are zero\n",
    "        if A[i,i] == 0:\n",
    "            for j in range(j+1,n):\n",
    "                if np.abs(A[j,i]) > np.abs(A[i,i]):\n",
    "                    A[i], A[j] = A[j], A[i]                             \n",
    "                    # Swap ith and jth rows with each other                    \n",
    "                    break\n",
    "                    \n",
    "        if A[i][i] != 0.0:           \n",
    "            for j in range(i+1, n):\n",
    "                factor = A[j][i]/A[i][i]      #normalization step  \n",
    "                A[j] -= factor * A[i]\n",
    "\n",
    "    # Back Substitution\n",
    "    x[n-1] = A[n-1][n]/A[n-1][n-1]\n",
    "\n",
    "    for i in range(n-2,-1,-1):\n",
    "        x[i] = A[i][n]    \n",
    "        for j in range(i+1,n):\n",
    "            x[i] -= A[i][j]*x[j]\n",
    "    \n",
    "        x[i] /= A[i][i]\n",
    "    \n",
    "    return x"
   ]
  },
  {
   "cell_type": "code",
   "execution_count": 51,
   "id": "cc58b344",
   "metadata": {},
   "outputs": [
    {
     "name": "stdout",
     "output_type": "stream",
     "text": [
      "X1 = 0.333333\n",
      "X2 = 0.666667\n"
     ]
    }
   ],
   "source": [
    "#Solution using Gaussian Elimination With Partial Pivoting\n",
    "\n",
    "x = gaussian_elim_using_partial_pivoting(a)\n",
    "\n",
    "#we can also return the changed matrix A in the function and print it\n",
    "\n",
    "#print the solution\n",
    "for i in range(n):\n",
    "    print('X%d = %0.6f' %(i+1,x[i]))"
   ]
  },
  {
   "cell_type": "code",
   "execution_count": null,
   "id": "110b6e4a",
   "metadata": {},
   "outputs": [],
   "source": []
  }
 ],
 "metadata": {
  "kernelspec": {
   "display_name": "Python 3",
   "language": "python",
   "name": "python3"
  },
  "language_info": {
   "codemirror_mode": {
    "name": "ipython",
    "version": 3
   },
   "file_extension": ".py",
   "mimetype": "text/x-python",
   "name": "python",
   "nbconvert_exporter": "python",
   "pygments_lexer": "ipython3",
   "version": "3.8.8"
  }
 },
 "nbformat": 4,
 "nbformat_minor": 5
}
