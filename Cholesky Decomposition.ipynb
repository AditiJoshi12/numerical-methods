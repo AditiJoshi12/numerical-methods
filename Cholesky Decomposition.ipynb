{
 "cells": [
  {
   "cell_type": "markdown",
   "id": "f69fd793",
   "metadata": {},
   "source": [
    "## Cholesky Decomposition"
   ]
  },
  {
   "cell_type": "markdown",
   "id": "8ac6311a",
   "metadata": {},
   "source": [
    "Cholesky Decomposition is based on the fact that a symmetric matrix can be decomposed, as in A = L * L_Transpose. \n",
    "\n",
    "But this method works only for positive definite matrices.\n",
    "\n",
    "Another benefit of dealing with positive definite symmetric matrices is that pivoting is not required to avoid division by zero. \n",
    "\n",
    "Thus, we can implement the algorithm without the complication of pivoting."
   ]
  },
  {
   "cell_type": "code",
   "execution_count": 1,
   "id": "8be520f7",
   "metadata": {},
   "outputs": [],
   "source": [
    "#importing libraries\n",
    "\n",
    "import numpy as np\n",
    "from math import sqrt\n",
    "from pprint import pprint"
   ]
  },
  {
   "cell_type": "code",
   "execution_count": 2,
   "id": "7c08d553",
   "metadata": {},
   "outputs": [
    {
     "name": "stdout",
     "output_type": "stream",
     "text": [
      "array([[4., 3., 2., 1.],\n",
      "       [3., 3., 2., 1.],\n",
      "       [2., 2., 2., 1.],\n",
      "       [1., 1., 1., 1.]])\n",
      "array([[ 1.],\n",
      "       [-3.],\n",
      "       [ 0.],\n",
      "       [ 5.]])\n"
     ]
    }
   ],
   "source": [
    "#edit the matrix below\n",
    "\n",
    "a = (np.array([[4.0, 3.0, 2.0, 1.0], [3.0, 3.0, 2.0, 1.0], [2.0, 2.0, 2.0, 1.0], [1.0, 1.0, 1.0, 1.0]]))\n",
    "\n",
    "b = np.array([[1],[-3],[0],[5]], float)\n",
    "b1 = np.array([[1],[-3],[0],[5]], float)\n",
    "\n",
    "pprint(a)\n",
    "pprint(b)"
   ]
  },
  {
   "cell_type": "code",
   "execution_count": 3,
   "id": "c86ad959",
   "metadata": {},
   "outputs": [],
   "source": [
    "def cholesky(A):\n",
    "    n = len(A)\n",
    "\n",
    "    # Create zero matrix for L\n",
    "    L = [[0.0] * n for  i in range(n)]\n",
    "\n",
    "    # Perform the Cholesky decomposition\n",
    "    \n",
    "    for i in range(n):\n",
    "        for k in range(i+1):\n",
    "            tmp_sum = sum(L[i][j] * L[k][j] for j in range(k))            \n",
    "            \n",
    "            if (i == k): # Diagonal elements                \n",
    "                L[i][k] = sqrt(A[i][i] - tmp_sum)\n",
    "            else:\n",
    "                L[i][k] = (1.0 / L[k][k]) * ((A[i][k] - tmp_sum))\n",
    "    return L"
   ]
  },
  {
   "cell_type": "code",
   "execution_count": 4,
   "id": "f716af3b",
   "metadata": {},
   "outputs": [],
   "source": [
    "def multiply(a, b):\n",
    "    c = np.zeros((len(a),len(b[0])))\n",
    "    for i in range(len(a)):\n",
    "        for j in range(len(b[0])):\n",
    "            for k in range(len(a[0])):\n",
    "                c[i,j] += a[i,k]*b[k,j]\n",
    "    return c"
   ]
  },
  {
   "cell_type": "code",
   "execution_count": 5,
   "id": "50cf54de",
   "metadata": {},
   "outputs": [
    {
     "name": "stdout",
     "output_type": "stream",
     "text": [
      "[[4. 3. 2. 1.]\n",
      " [3. 3. 2. 1.]\n",
      " [2. 2. 2. 1.]\n",
      " [1. 1. 1. 1.]]\n",
      "array([[2.      , 0.      , 0.      , 0.      ],\n",
      "       [1.5     , 0.866025, 0.      , 0.      ],\n",
      "       [1.      , 0.57735 , 0.816497, 0.      ],\n",
      "       [0.5     , 0.288675, 0.408248, 0.707107]])\n",
      "\n",
      "\n",
      "multiplying to verify\n",
      "\n",
      "\n",
      "array([[4., 3., 2., 1.],\n",
      "       [3., 3., 2., 1.],\n",
      "       [2., 2., 2., 1.],\n",
      "       [1., 1., 1., 1.]])\n"
     ]
    }
   ],
   "source": [
    "print(a)\n",
    "L_cholesky = np.array(cholesky(a))\n",
    "pprint(np.around(L_cholesky, 6))\n",
    "print(\"\\n\")\n",
    "print(\"multiplying to verify\")\n",
    "print(\"\\n\")\n",
    "pprint(multiply(L_cholesky , L_cholesky.T))"
   ]
  },
  {
   "cell_type": "code",
   "execution_count": 6,
   "id": "ad0b56dd",
   "metadata": {},
   "outputs": [],
   "source": [
    "def backsub(u, b):\n",
    "    n = len(u[0])\n",
    "    x = np.zeros(n)\n",
    "    for i in range(1,n+1):\n",
    "        x[-i] = b[-i]\n",
    "        for j in range(1,i):\n",
    "            x[-i] -= u[-i][-j]*x[-j]\n",
    "        x[-i] /= u[-i][-i]\n",
    "    return x\n",
    "\n",
    "\n",
    "def fwdsub(l, b):\n",
    "    n = len(l[0])\n",
    "    d = b\n",
    "    for i in range(n):\n",
    "        for j in range(i):\n",
    "            d[i] -= l[i][j]*d[j]\n",
    "        d[i] /= l[i][i]\n",
    "    return d"
   ]
  },
  {
   "cell_type": "code",
   "execution_count": 7,
   "id": "b8856a91",
   "metadata": {},
   "outputs": [
    {
     "name": "stdout",
     "output_type": "stream",
     "text": [
      "array([ 4., -7., -2., 10.])\n"
     ]
    }
   ],
   "source": [
    "l = cholesky(a.copy())\n",
    "d = fwdsub(l, b1)\n",
    "u = np.transpose(l)\n",
    "x = backsub(u, d)\n",
    "pprint(x)"
   ]
  },
  {
   "cell_type": "code",
   "execution_count": 8,
   "id": "6536ebec",
   "metadata": {},
   "outputs": [
    {
     "name": "stdout",
     "output_type": "stream",
     "text": [
      "array([[  6.,  15.,  55.],\n",
      "       [ 15.,  55., 225.],\n",
      "       [ 55., 225., 979.]])\n",
      "array([[ 2.4495,  0.    ,  0.    ],\n",
      "       [ 6.1237,  4.1833,  0.    ],\n",
      "       [22.4537, 20.9165,  6.1101]])\n"
     ]
    }
   ],
   "source": [
    "a1 = [[6.0, 15.0, 55.0], [15.0, 55.0, 225.0], [55.0, 225.0, 979.0]]\n",
    "\n",
    "pprint(np.around(a1, 6))\n",
    "\n",
    "L1 = cholesky(a1)\n",
    "\n",
    "pprint(np.around(L1, 4))"
   ]
  },
  {
   "cell_type": "code",
   "execution_count": 9,
   "id": "23dc943c",
   "metadata": {},
   "outputs": [
    {
     "name": "stdout",
     "output_type": "stream",
     "text": [
      "[[ 1.]\n",
      " [-3.]\n",
      " [ 0.]\n",
      " [ 5.]]\n",
      "[[ 1.]\n",
      " [-3.]\n",
      " [ 0.]\n",
      " [ 5.]]\n"
     ]
    }
   ],
   "source": [
    "print(np.around(np.dot(a, x).reshape(4, 1), 6))\n",
    "print(b)"
   ]
  }
 ],
 "metadata": {
  "kernelspec": {
   "display_name": "Python 3",
   "language": "python",
   "name": "python3"
  },
  "language_info": {
   "codemirror_mode": {
    "name": "ipython",
    "version": 3
   },
   "file_extension": ".py",
   "mimetype": "text/x-python",
   "name": "python",
   "nbconvert_exporter": "python",
   "pygments_lexer": "ipython3",
   "version": "3.8.8"
  }
 },
 "nbformat": 4,
 "nbformat_minor": 5
}
