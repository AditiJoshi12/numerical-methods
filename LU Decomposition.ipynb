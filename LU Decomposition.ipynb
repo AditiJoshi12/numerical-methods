{
 "cells": [
  {
   "cell_type": "markdown",
   "id": "99542709",
   "metadata": {},
   "source": [
    "# LU Decomposition"
   ]
  },
  {
   "cell_type": "markdown",
   "id": "2697cacc",
   "metadata": {},
   "source": [
    "LU decomposition methods separate the time-consuming elimination of the matrix A from the manipulations of the right-hand side {B}. Thus, once A has been “decomposed,” multiple right-hand-side vectors can be evaluated in an efficient manner.\n",
    "\n",
    "In LU decomposition, we \"decompose\" the matric A into a lower triangular matrix L, and an upper triangular matrix U such that LU = A.\n",
    "\n",
    "To solve AX = B, decompose the matrix A into L and U. Solve LY = B using forward substitution and UX = Y using backward substitution."
   ]
  },
  {
   "cell_type": "code",
   "execution_count": 37,
   "id": "d7110b40",
   "metadata": {},
   "outputs": [],
   "source": [
    "#importing libraries\n",
    "\n",
    "import numpy as np\n",
    "from math import sqrt\n",
    "from pprint import pprint"
   ]
  },
  {
   "cell_type": "code",
   "execution_count": 38,
   "id": "f6ec5944",
   "metadata": {},
   "outputs": [
    {
     "name": "stdout",
     "output_type": "stream",
     "text": [
      "array([[4., 3., 2., 1.],\n",
      "       [3., 3., 2., 1.],\n",
      "       [2., 2., 2., 1.],\n",
      "       [1., 1., 1., 1.]])\n",
      "array([[ 1.],\n",
      "       [-3.],\n",
      "       [ 0.],\n",
      "       [ 5.]])\n"
     ]
    }
   ],
   "source": [
    "#edit the matrix below\n",
    "\n",
    "a = (np.array([[4.0, 3.0, 2.0, 1.0], [3.0, 3.0, 2.0, 1.0], [2.0, 2.0, 2.0, 1.0], [1.0, 1.0, 1.0, 1.0]]))\n",
    "\n",
    "b = np.array([[1],[-3],[0],[5]], float)\n",
    "b1 = np.array([[1],[-3],[0],[5]], float)\n",
    "\n",
    "pprint(a)\n",
    "pprint(b)"
   ]
  },
  {
   "cell_type": "code",
   "execution_count": 39,
   "id": "4ec99229",
   "metadata": {},
   "outputs": [],
   "source": [
    "#implementation of a simple LU factorization\n",
    "\n",
    "def lu(A):\n",
    "    \n",
    "    #Get the number of rows\n",
    "    n = len(A[0])\n",
    "    \n",
    "    U = A.copy()\n",
    "    L = np.eye(n)\n",
    "    \n",
    "    #Loop over rows\n",
    "    for i in range(n):\n",
    "        for j in range(i + 1, n):\n",
    "            factor = (U[j][i]/U[i][i])\n",
    "            L[j][i] = factor\n",
    "            U[j] -= (factor) * (U[i])\n",
    "        \n",
    "    return L, U    \n"
   ]
  },
  {
   "cell_type": "code",
   "execution_count": 40,
   "id": "56d4fe06",
   "metadata": {},
   "outputs": [],
   "source": [
    "def multiply(a, b):\n",
    "    c = np.zeros((len(a),len(b[0])))\n",
    "    for i in range(len(a)):\n",
    "        for j in range(len(b[0])):\n",
    "            for k in range(len(a[0])):\n",
    "                c[i,j] += a[i,k]*b[k,j]\n",
    "    return c"
   ]
  },
  {
   "cell_type": "code",
   "execution_count": 33,
   "id": "82e781e1",
   "metadata": {},
   "outputs": [
    {
     "name": "stdout",
     "output_type": "stream",
     "text": [
      "array([[4., 3., 2., 1.],\n",
      "       [3., 3., 2., 1.],\n",
      "       [2., 2., 2., 1.],\n",
      "       [1., 1., 1., 1.]])\n",
      "\n",
      "Lower Matrix \n",
      "\n",
      "array([[1.      , 0.      , 0.      , 0.      ],\n",
      "       [0.75    , 1.      , 0.      , 0.      ],\n",
      "       [0.5     , 0.666667, 1.      , 0.      ],\n",
      "       [0.25    , 0.333333, 0.5     , 1.      ]])\n",
      "\n",
      "Upper Matrix \n",
      "\n",
      "array([[4.      , 3.      , 2.      , 1.      ],\n",
      "       [0.      , 0.75    , 0.5     , 0.25    ],\n",
      "       [0.      , 0.      , 0.666667, 0.333333],\n",
      "       [0.      , 0.      , 0.      , 0.5     ]])\n",
      "\n",
      "Multiplying to verify\n",
      "\n",
      "array([[4., 3., 2., 1.],\n",
      "       [3., 3., 2., 1.],\n",
      "       [2., 2., 2., 1.],\n",
      "       [1., 1., 1., 1.]])\n"
     ]
    }
   ],
   "source": [
    "L, U = lu(a)\n",
    "\n",
    "pprint(a)\n",
    "\n",
    "print(\"\\nLower Matrix \\n\")\n",
    "pprint(np.around(L, 6))\n",
    "print(\"\\nUpper Matrix \\n\")\n",
    "pprint(np.around(U, 6))\n",
    "\n",
    "print(\"\\nMultiplying to verify\\n\")\n",
    "pprint(multiply(L, U))"
   ]
  },
  {
   "cell_type": "code",
   "execution_count": 34,
   "id": "ce87ae52",
   "metadata": {},
   "outputs": [],
   "source": [
    "def fwdsub(l, b):\n",
    "    n = len(l[0])\n",
    "    d = b\n",
    "    for i in range(n):\n",
    "        for j in range(i):\n",
    "            d[i] -= l[i][j]*d[j]\n",
    "        d[i] /= l[i][i]\n",
    "    return d"
   ]
  },
  {
   "cell_type": "code",
   "execution_count": 35,
   "id": "b50f9bc8",
   "metadata": {},
   "outputs": [],
   "source": [
    "def backsub(u, b):\n",
    "    n = len(u[0])\n",
    "    x = np.zeros(n)\n",
    "    for i in range(1,n+1):\n",
    "        x[-i] = b[-i]\n",
    "        for j in range(1,i):\n",
    "            x[-i] -= u[-i,-j]*x[-j]\n",
    "        x[-i] /= u[-i,-i]\n",
    "    return x\n"
   ]
  },
  {
   "cell_type": "code",
   "execution_count": 36,
   "id": "70625aae",
   "metadata": {},
   "outputs": [
    {
     "name": "stdout",
     "output_type": "stream",
     "text": [
      "[ 4. -7. -2. 10.]\n"
     ]
    }
   ],
   "source": [
    "d = fwdsub(L, b1)\n",
    "\n",
    "x = backsub(U, d)\n",
    "\n",
    "print(x)\n"
   ]
  },
  {
   "cell_type": "code",
   "execution_count": 44,
   "id": "d1243027",
   "metadata": {},
   "outputs": [
    {
     "data": {
      "text/plain": [
       "array([[ 1.],\n",
       "       [-3.],\n",
       "       [-0.],\n",
       "       [ 5.]])"
      ]
     },
     "execution_count": 44,
     "metadata": {},
     "output_type": "execute_result"
    }
   ],
   "source": [
    "np.around((np.dot(a, x)).reshape(4,1), 6)"
   ]
  },
  {
   "cell_type": "code",
   "execution_count": 41,
   "id": "946ebd67",
   "metadata": {},
   "outputs": [
    {
     "name": "stdout",
     "output_type": "stream",
     "text": [
      "[[ 3.  -0.1 -0.2]\n",
      " [ 0.1  7.  -0.3]\n",
      " [ 0.3 -0.2 10. ]]\n",
      "array([[ 1.        ,  0.        ,  0.        ],\n",
      "       [ 0.03333333,  1.        ,  0.        ],\n",
      "       [ 0.1       , -0.02712994,  1.        ]])\n",
      "array([[ 3.        , -0.1       , -0.2       ],\n",
      "       [ 0.        ,  7.00333333, -0.29333333],\n",
      "       [ 0.        ,  0.        , 10.01204188]])\n",
      "array([[ 3. , -0.1, -0.2],\n",
      "       [ 0.1,  7. , -0.3],\n",
      "       [ 0.3, -0.2, 10. ]])\n"
     ]
    }
   ],
   "source": [
    "a2 = np.array([[3, -0.1, -0.2], [0.1, 7, -0.3], [0.3, -0.2, 10]], float)\n",
    "print(a2)\n",
    "L2, U2 = lu(a2)\n",
    "pprint(L2)\n",
    "pprint(U2)\n",
    "pprint(multiply(L2, U2))"
   ]
  }
 ],
 "metadata": {
  "kernelspec": {
   "display_name": "Python 3",
   "language": "python",
   "name": "python3"
  },
  "language_info": {
   "codemirror_mode": {
    "name": "ipython",
    "version": 3
   },
   "file_extension": ".py",
   "mimetype": "text/x-python",
   "name": "python",
   "nbconvert_exporter": "python",
   "pygments_lexer": "ipython3",
   "version": "3.8.8"
  }
 },
 "nbformat": 4,
 "nbformat_minor": 5
}
