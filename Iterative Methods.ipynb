{
 "cells": [
  {
   "cell_type": "markdown",
   "id": "2e66b343",
   "metadata": {},
   "source": [
    "### Gauss Seidel Iteration Method"
   ]
  },
  {
   "cell_type": "markdown",
   "id": "d8d25ca9",
   "metadata": {},
   "source": [
    "## What are Iterative Methods?\n",
    "\n",
    "- Iterative or approximate methods provide an alternative to the elimination methods. \n",
    "- These approaches consist of guessing a value (we generally start off with 0s) and then using a systematic method to obtain a refined estimate of the root."
   ]
  },
  {
   "cell_type": "markdown",
   "id": "9f552683",
   "metadata": {},
   "source": [
    "## Gauss-Seidel Method\n",
    "- The Gauss-Seidel method is the most commonly used iterative method. Assume that we are given a set of n equations: \n",
    "    [A]{X} = {B}\n",
    "- If the diagonal elements are all nonzero, the first equation can be solved for x 1, the second for x2, the third for x3 and\n",
    "so on.\n",
    "- As each new x value is computed for the Gauss-Seidel method, it is immediately used in the next equation to determine another x value. Thus, if the solution is converging, the best available estimates will be employed.\n",
    "\n",
    "The Gauss-Seidel method can also exhibit some shortcomings. \n",
    "- For this method to converge to the real value, the diagonal element must be greater than the off-diagonal element for each row i.e., the matrix must be Diagonally dominant."
   ]
  },
  {
   "cell_type": "markdown",
   "id": "69deeb40",
   "metadata": {},
   "source": [
    "## Jacobi Iteration\n",
    "- This is an alternative approach which utilizes a somewhat different tactic. \n",
    "- Rather than using the latest available x’s,this technique computes a set of new x’s on the basis of a set of old x’s. Thus, as new values are generated, they are not immediately used but rather are retained for the next iteration.\n",
    "- Although there are certain cases where the Jacobi method is useful, Gauss-Seidel’s utilization of the best available\n",
    "   estimates usually makes it the method of preference."
   ]
  },
  {
   "cell_type": "code",
   "execution_count": 1,
   "id": "b7cc3c87",
   "metadata": {},
   "outputs": [],
   "source": [
    "#importing libraries\n",
    "\n",
    "import numpy as np\n",
    "import matplotlib.pyplot as plt"
   ]
  },
  {
   "cell_type": "code",
   "execution_count": 2,
   "id": "9e89dcee",
   "metadata": {},
   "outputs": [],
   "source": [
    "#edit the matrix below\n",
    "\n",
    "a = np.array([[3, 7, 13], [1, 5, 3], [12, 3, -5]], float)\n",
    "\n",
    "b = np.array([76, 28, 1], float)"
   ]
  },
  {
   "cell_type": "code",
   "execution_count": 3,
   "id": "d4f2609f",
   "metadata": {},
   "outputs": [
    {
     "name": "stdout",
     "output_type": "stream",
     "text": [
      "\n",
      "Iteration 1\t[25.3333333  0.5333333 60.92     ]\n",
      "\n",
      "Iteration 2\t[-239.8977777   17.0275555 -565.7381332]\n",
      "\n",
      "Iteration 3\t[2437.134281  -142.3839763 5763.4918887]\n",
      "\n",
      "Iteration 4\t[-24617.5689063   1471.018648  -58199.7541864]\n",
      "\n",
      "Iteration 5\t[248791.8912957 -14832.9257473 588200.5836614]\n",
      "\n",
      "Iteration 6\t[-2514233.7024557   149931.9902943 -5944201.8917171]\n",
      "\n",
      "Iteration 7\t[25408392.2200874 -1515151.7089872 60071050.1028174]\n",
      "\n",
      "Iteration 8\t[-2.56772504e+08  1.53118764e+07 -6.07066885e+08]\n",
      "\n",
      "Iteration 9\t[ 2.59489548e+09 -1.54738960e+08  6.13490578e+09]\n",
      "\n",
      "Iteration 10\t[-2.62235341e+10  1.56376336e+09 -6.19982239e+10]\n",
      "\n",
      "Iteration 11\t[ 2.65010189e+11 -1.58031035e+10  6.26542591e+11]\n",
      "\n",
      "Iteration 12\t[-2.67814399e+12  1.59703243e+11 -6.33172363e+12]\n",
      "\n",
      "Iteration 13\t[ 2.70648281e+13 -1.61393145e+12  6.39872287e+13]\n",
      "\n",
      "Iteration 14\t[-2.73512151e+14  1.63100930e+13 -6.46643106e+14]\n",
      "\n",
      "Iteration 15\t[ 2.76406324e+15 -1.64826785e+14  6.53485571e+15]\n"
     ]
    }
   ],
   "source": [
    "#Gauss Seidel Iterative Method Code\n",
    "\n",
    "x = [0, 0, 0]\n",
    "\n",
    "def seidel(a, x, b):\n",
    "    n = len(a)\n",
    "    for j in range(0, n):\n",
    "        d = b[j]\n",
    "        for i in range(0, n):\n",
    "            if (j != i):\n",
    "                d -= a[j][i] * x[i]\n",
    "        x[j] = d/a[j][j]\n",
    "        \n",
    "    return np.round(x, 7)\n",
    "\n",
    "#run loop for 15 iterations \n",
    "for i in range(15):\n",
    "    x = seidel(a,x,b)\n",
    "    print(\"\\nIteration \" + str(i+1), str(x), sep = \"\\t\")"
   ]
  },
  {
   "cell_type": "code",
   "execution_count": 4,
   "id": "34672894",
   "metadata": {},
   "outputs": [
    {
     "name": "stdout",
     "output_type": "stream",
     "text": [
      "\n",
      "Iteration 1\t[25.3333333  5.6       -0.2      ]\n",
      "\n",
      "Iteration 2\t[13.1333333  0.6533333 63.9599999]\n",
      "\n",
      "Iteration 3\t[-253.3511106  -35.4026666   31.7119999]\n",
      "\n",
      "Iteration 4\t[ -29.4791108   37.2430222 -629.4842654]\n",
      "\n",
      "Iteration 5\t[2666.1980983  389.1863814  -48.6040526]\n",
      "\n",
      "Iteration 6\t[-672.150662  -498.4771881 6632.1872648]\n",
      "\n",
      "Iteration 7\t[-27551.0313752  -3839.2822265  -1912.4479017]\n",
      "\n",
      "Iteration 8\t[ 17270.9327692   6663.2750161 -68426.2446364]\n",
      "\n",
      "Iteration 9\t[280991.4183868  37607.160228   45448.0036557]\n",
      "\n",
      "Iteration 10\t[-284666.0563734  -83461.4858708  696943.5002651]\n",
      "\n",
      "Iteration 11\t[-2825319.7007836  -361227.2888844  -733275.6268186]\n",
      "\n",
      "Iteration 12\t[ 4020416.7236109  1005034.9162479 -6997503.8552113]\n",
      "\n",
      "Iteration 13\t[27977460.5680039  3394424.5684046 10252020.8864149]\n",
      "\n",
      "Iteration 14\t[-52345722.500742  -11746699.0454497  69182559.9042521]\n",
      "\n",
      "Iteration 15\t[-2.72382103e+08 -3.10403858e+07 -1.32677754e+08]\n"
     ]
    }
   ],
   "source": [
    "#Jacobi Iterative Method Code\n",
    "\n",
    "x = [0,0,0]\n",
    "def jacobi(a,x,b):\n",
    "    n = len(a)\n",
    "    y = [0,0,0]\n",
    "    for j in range(n):\n",
    "        d = b[j]\n",
    "        for i in range(n):\n",
    "            if (j != i):\n",
    "                d -= a[j][i] * x[i]\n",
    "        y[j] = d/a[j][j]\n",
    "    x = y    \n",
    "    return np.round(y, 7)\n",
    "\n",
    "#run loop for 15 iterations \n",
    "for i in range(15):\n",
    "    x = jacobi(a,x,b)\n",
    "    print(\"\\nIteration \" + str(i+1), str(x), sep = \"\\t\")"
   ]
  },
  {
   "cell_type": "markdown",
   "id": "9e59bcc7",
   "metadata": {},
   "source": [
    "This is giving absurd solutions, way off from expected value. \n",
    "This is because, for iterative methods, the absolute values of the slopes must be less than unity to ensure convergence. This might be because the matrix is not diagonally dominant. Let us check if the matrix is diagonally dominant or not."
   ]
  },
  {
   "cell_type": "code",
   "execution_count": 5,
   "id": "b943780f",
   "metadata": {},
   "outputs": [
    {
     "data": {
      "text/plain": [
       "False"
      ]
     },
     "execution_count": 5,
     "metadata": {},
     "output_type": "execute_result"
    }
   ],
   "source": [
    "# function to check if the matrix is diagonally dominant or not\n",
    "\n",
    "def diag_dom(a):\n",
    "    n = len(a)\n",
    "    for i in range(n):\n",
    "        sum = 0\n",
    "        for j in range(n):\n",
    "            sum += abs(a[i][j])\n",
    "        sum -= abs(a[i][i])\n",
    "        if (abs(a[i][i]) < sum):\n",
    "            return False\n",
    "    return True\n",
    "\n",
    "diag_dom(a)        "
   ]
  },
  {
   "cell_type": "code",
   "execution_count": 6,
   "id": "df236d48",
   "metadata": {},
   "outputs": [
    {
     "name": "stdout",
     "output_type": "stream",
     "text": [
      "[[12.  3. -5.]\n",
      " [ 1.  5.  3.]\n",
      " [ 3.  7. 13.]]\n",
      "\n",
      "\n",
      "[ 1. 28. 76.]\n"
     ]
    },
    {
     "data": {
      "text/plain": [
       "True"
      ]
     },
     "execution_count": 6,
     "metadata": {},
     "output_type": "execute_result"
    }
   ],
   "source": [
    "a[[0, 2]] = a[[2, 0]]\n",
    "b[[0, 2]] = b[[2, 0]]\n",
    "\n",
    "print(a)\n",
    "print(\"\\n\")\n",
    "print(b)\n",
    "diag_dom(a)"
   ]
  },
  {
   "cell_type": "markdown",
   "id": "723a83df",
   "metadata": {},
   "source": [
    "Now the matrix is diagonally dominant. Applying Gauss Seidel Iterative Method and Jacobi Iterative Method"
   ]
  },
  {
   "cell_type": "code",
   "execution_count": 7,
   "id": "051089b7",
   "metadata": {},
   "outputs": [
    {
     "name": "stdout",
     "output_type": "stream",
     "text": [
      "\n",
      "Iteration 1\t[0.0833333 5.5833333 2.8205128]\n",
      "Error:          [4.e-05 6.e-07 7.e-07]\n",
      "\n",
      "Iteration 2\t[-0.1372863  3.9351496  3.7589086]\n",
      "Error:          [-1.82e-05  4.00e-07  2.00e-07]\n",
      "\n",
      "Iteration 3\t[0.6657578 3.2115033 3.9632464]\n",
      "Error:          [7.5e-06 9.0e-07 7.0e-07]\n",
      "\n",
      "Iteration 4\t[0.9318102 3.0356901 3.9965184]\n",
      "Error:          [2.7e-06 8.0e-07 1.2e-06]\n",
      "\n",
      "Iteration 5\t[0.9896268 3.0041636 4.0001519]\n",
      "Error:          [8.e-07 1.e-07 6.e-07]\n",
      "\n",
      "Iteration 6\t[0.9990224 3.0001044 4.0001694]\n",
      "Error:          [8.e-07 6.e-07 1.e-07]\n",
      "\n",
      "Iteration 7\t[1.0000445 2.9998895 4.0000493]\n",
      "Error:          [1.7e-06 1.2e-06 1.1e-06]\n",
      "\n",
      "Iteration 8\t[1.0000482 2.9999608 4.00001  ]\n",
      "Error:          [3.3e-06 4.0e-07 0.0e+00]\n",
      "\n",
      "Iteration 9\t[1.000014  2.9999912 4.0000015]\n",
      "Error:          [3.3e-06 2.0e-07 3.0e-07]\n",
      "\n",
      "Iteration 10\t[1.0000028 2.9999985 4.0000001]\n",
      "Error:          [2.5e-06 1.2e-06 9.0e-07]\n",
      "\n",
      "Iteration 11\t[1.0000004 2.9999999 4.       ]\n",
      "Error:          [1.7e-06 1.4e-06 5.0e-07]\n",
      "\n",
      "Iteration 12\t[1. 3. 4.]\n",
      "Error:          [2.5e-06 2.0e-07 1.0e-07]\n",
      "\n",
      "Iteration 13\t[1. 3. 4.]\n",
      "Error:          [0. 0. 0.]\n",
      "\n",
      "Iteration 14\t[1. 3. 4.]\n",
      "Error:          [0. 0. 0.]\n",
      "\n",
      "Iteration 15\t[1. 3. 4.]\n",
      "Error:          [0. 0. 0.]\n"
     ]
    }
   ],
   "source": [
    "x1 = [0,0,0]\n",
    "\n",
    "sol = np.array([1,3,4], float)\n",
    "\n",
    "for i in range(15):\n",
    "    yyy = x1\n",
    "    x1 = seidel(a,x1,b)\n",
    "    print(\"\\nIteration \" + str(i+1), str(x1), sep = \"\\t\")\n",
    "    #printing error\n",
    "    err = [0,0,0]\n",
    "    err[0] = 100*abs((yyy[0] - x1[0]))/x1[0]\n",
    "    err[1] = 100*abs((yyy[1] - x1[1]))/x1[1]\n",
    "    err[2] = 100*abs((yyy[2] - x1[2]))/x1[2]\n",
    "    print(\"Error:         \", np.round((err), 7))"
   ]
  },
  {
   "cell_type": "code",
   "execution_count": 8,
   "id": "71e30c0b",
   "metadata": {},
   "outputs": [
    {
     "name": "stdout",
     "output_type": "stream",
     "text": [
      "\n",
      "Iteration 1\t[0.0833333 5.6       5.8461538]\n",
      "Error:          [1100.00048     46.4285714   31.5789468]\n",
      "\n",
      "Iteration 2\t[1.1192308 2.0756411 2.8115385]\n",
      "Error:          [10.6529234 44.5336576 42.2708599]\n",
      "\n",
      "Iteration 3\t[0.7358974 3.6892307 4.4702169]\n",
      "Error:          [35.8885084 18.6822337 10.5188833]\n",
      "\n",
      "Iteration 4\t[1.023616  2.7706904 3.6898225]\n",
      "Error:          [2.3071152 8.2762621 8.4062987]\n",
      "\n",
      "Iteration 5\t[0.9280868 3.1813833 4.1180246]\n",
      "Error:          [7.7485425 5.7013973 2.8660489]\n",
      "\n",
      "Iteration 6\t[1.0038311 2.9435679 3.9189274]\n",
      "Error:          [0.3816479 1.9171326 2.0687446]\n",
      "\n",
      "Iteration 7\t[0.9803278 3.0478773 4.0295024]\n",
      "Error:          [2.0066961 1.5708408 0.7321599]\n",
      "\n",
      "Iteration 8\t[1.0003233 2.986233  3.9787597]\n",
      "Error:          [0.0323196 0.4610156 0.5338422]\n",
      "\n",
      "Iteration 9\t[0.9945916 3.0126795 4.0073384]\n",
      "Error:          [0.543781  0.4208712 0.183124 ]\n",
      "\n",
      "Iteration 10\t[0.9998878 2.9966786 3.9944207]\n",
      "Error:          [0.0112213 0.110836  0.1396773]\n",
      "\n",
      "Iteration 11\t[0.9985056 3.00337   4.0018143]\n",
      "Error:          [0.1496637 0.1122073 0.0453369]\n",
      "\n",
      "Iteration 12\t[0.9999135 2.9992103 3.9985302]\n",
      "Error:          [0.0086507 0.0263303 0.0367585]\n",
      "\n",
      "Iteration 13\t[0.999585  3.0008992 4.0004452]\n",
      "Error:          [0.0415172 0.0299644 0.0111288]\n",
      "\n",
      "Iteration 14\t[0.9999607 2.9998159 3.9996116]\n",
      "Error:          [0.0039302 0.006137  0.0097109]\n",
      "\n",
      "Iteration 15\t[0.9998842 3.0002409 4.0001082]\n",
      "Error:          [0.0115813 0.0080294 0.0027049]\n",
      "\n",
      "Iteration 16\t[0.9999849 2.9999582 3.999897 ]\n",
      "Error:          [0.00151   0.0013934 0.0025751]\n",
      "\n",
      "Iteration 17\t[0.9999675 3.0000648 4.000026 ]\n",
      "Error:          [0.0032501 0.00216   0.00065  ]\n",
      "\n",
      "Iteration 18\t[0.9999946 2.9999909 3.9999726]\n",
      "Error:          [0.00054   0.0003033 0.000685 ]\n",
      "\n",
      "Iteration 19\t[0.9999909 3.0000175 4.0000061]\n",
      "Error:          [0.00091   0.0005833 0.0001525]\n",
      "\n",
      "Iteration 20\t[0.9999982 2.9999982 3.9999927]\n",
      "Error:          [1.800e-04 6.000e-05 1.825e-04]\n",
      "\n",
      "Iteration 21\t[0.9999974 3.0000047 4.0000014]\n",
      "Error:          [2.600e-04 1.567e-04 3.500e-05]\n",
      "\n",
      "Iteration 22\t[0.9999994 2.9999997 3.9999981]\n",
      "Error:          [6.00e-05 1.00e-05 4.75e-05]\n",
      "\n",
      "Iteration 23\t[0.9999993 3.0000013 4.0000003]\n",
      "Error:          [7.00e-05 4.33e-05 7.50e-06]\n",
      "\n",
      "Iteration 24\t[0.9999998 3.        3.9999995]\n",
      "Error:          [2.00e-05 0.00e+00 1.25e-05]\n",
      "\n",
      "Iteration 25\t[0.9999998 3.0000003 4.       ]\n",
      "Error:          [2.e-05 1.e-05 0.e+00]\n",
      "\n",
      "Iteration 26\t[0.9999999 3.        3.9999999]\n",
      "Error:          [1.0e-05 0.0e+00 2.5e-06]\n",
      "\n",
      "Iteration 27\t[1.        3.0000001 4.       ]\n",
      "Error:          [0.0e+00 3.3e-06 0.0e+00]\n",
      "\n",
      "Iteration 28\t[1.        3.        3.9999999]\n",
      "Error:          [0.0e+00 0.0e+00 2.5e-06]\n",
      "\n",
      "Iteration 29\t[1.        3.0000001 4.       ]\n",
      "Error:          [0.0e+00 3.3e-06 0.0e+00]\n",
      "\n",
      "Iteration 30\t[1.        3.        3.9999999]\n",
      "Error:          [0.0e+00 0.0e+00 2.5e-06]\n",
      "\n",
      "Iteration 31\t[1.        3.0000001 4.       ]\n",
      "Error:          [0.0e+00 3.3e-06 0.0e+00]\n",
      "\n",
      "Iteration 32\t[1.        3.        3.9999999]\n",
      "Error:          [0.0e+00 0.0e+00 2.5e-06]\n",
      "\n",
      "Iteration 33\t[1.        3.0000001 4.       ]\n",
      "Error:          [0.0e+00 3.3e-06 0.0e+00]\n",
      "\n",
      "Iteration 34\t[1.        3.        3.9999999]\n",
      "Error:          [0.0e+00 0.0e+00 2.5e-06]\n",
      "\n",
      "Iteration 35\t[1.        3.0000001 4.       ]\n",
      "Error:          [0.0e+00 3.3e-06 0.0e+00]\n",
      "\n",
      "Iteration 36\t[1.        3.        3.9999999]\n",
      "Error:          [0.0e+00 0.0e+00 2.5e-06]\n",
      "\n",
      "Iteration 37\t[1.        3.0000001 4.       ]\n",
      "Error:          [0.0e+00 3.3e-06 0.0e+00]\n",
      "\n",
      "Iteration 38\t[1.        3.        3.9999999]\n",
      "Error:          [0.0e+00 0.0e+00 2.5e-06]\n",
      "\n",
      "Iteration 39\t[1.        3.0000001 4.       ]\n",
      "Error:          [0.0e+00 3.3e-06 0.0e+00]\n",
      "\n",
      "Iteration 40\t[1.        3.        3.9999999]\n",
      "Error:          [0.0e+00 0.0e+00 2.5e-06]\n",
      "\n",
      "Iteration 41\t[1.        3.0000001 4.       ]\n",
      "Error:          [0.0e+00 3.3e-06 0.0e+00]\n",
      "\n",
      "Iteration 42\t[1.        3.        3.9999999]\n",
      "Error:          [0.0e+00 0.0e+00 2.5e-06]\n",
      "\n",
      "Iteration 43\t[1.        3.0000001 4.       ]\n",
      "Error:          [0.0e+00 3.3e-06 0.0e+00]\n",
      "\n",
      "Iteration 44\t[1.        3.        3.9999999]\n",
      "Error:          [0.0e+00 0.0e+00 2.5e-06]\n",
      "\n",
      "Iteration 45\t[1.        3.0000001 4.       ]\n",
      "Error:          [0.0e+00 3.3e-06 0.0e+00]\n",
      "\n",
      "Iteration 46\t[1.        3.        3.9999999]\n",
      "Error:          [0.0e+00 0.0e+00 2.5e-06]\n",
      "\n",
      "Iteration 47\t[1.        3.0000001 4.       ]\n",
      "Error:          [0.0e+00 3.3e-06 0.0e+00]\n",
      "\n",
      "Iteration 48\t[1.        3.        3.9999999]\n",
      "Error:          [0.0e+00 0.0e+00 2.5e-06]\n",
      "\n",
      "Iteration 49\t[1.        3.0000001 4.       ]\n",
      "Error:          [0.0e+00 3.3e-06 0.0e+00]\n",
      "\n",
      "Iteration 50\t[1.        3.        3.9999999]\n",
      "Error:          [0.0e+00 0.0e+00 2.5e-06]\n"
     ]
    }
   ],
   "source": [
    "x1 = [0,0,0]\n",
    "sol = np.array([1,3,4], float)\n",
    "\n",
    "for i in range(50):\n",
    "    x1 = jacobi(a,x1,b)\n",
    "    print(\"\\nIteration \" + str(i+1), str(x1), sep = \"\\t\")\n",
    "    #printing error\n",
    "    err = [0,0,0]\n",
    "    err[0] = 100*abs((sol[0] - x1[0]))/x1[0]\n",
    "    err[1] = 100*abs((sol[1] - x1[1]))/x1[1]\n",
    "    err[2] = 100*abs((sol[2] - x1[2]))/x1[2]\n",
    "    print(\"Error:         \", np.round((err), 7))"
   ]
  },
  {
   "cell_type": "markdown",
   "id": "a3971759",
   "metadata": {},
   "source": [
    "We observe that the solution goes closer to expected value as the number of iterations increase. Let us compare the results obtained using both methods by plotting one of the solutions on Y axis and the number of iterations on the X axis."
   ]
  },
  {
   "cell_type": "code",
   "execution_count": 9,
   "id": "05864bc2",
   "metadata": {},
   "outputs": [
    {
     "data": {
      "text/plain": [
       "[<matplotlib.lines.Line2D at 0x196fb10d730>]"
      ]
     },
     "execution_count": 9,
     "metadata": {},
     "output_type": "execute_result"
    },
    {
     "data": {
      "image/png": "[encoded data removed]",
      "text/plain": [
       "<Figure size 432x288 with 1 Axes>"
      ]
     },
     "metadata": {
      "needs_background": "light"
     },
     "output_type": "display_data"
    }
   ],
   "source": [
    "x = np.array(range(0, 20))\n",
    "\n",
    "y_seidel = np.zeros(20)\n",
    "\n",
    "y_jacobi = np.zeros(20)\n",
    "\n",
    "y1 = [0,0,0]\n",
    "for i in range(20):\n",
    "    y1 = seidel(a,y1,b)\n",
    "    y_seidel[i] = y1[2]\n",
    "    \n",
    "x1 = [0,0,0]\n",
    "for i in range(20):\n",
    "    x1 = jacobi(a,x1,b)\n",
    "    #print()\n",
    "    y_jacobi[i] = x1[2]\n",
    "    \n",
    "plt.plot(x, y_seidel, 'k')\n",
    "plt.plot(x, y_jacobi, 'r')"
   ]
  }
 ],
 "metadata": {
  "kernelspec": {
   "display_name": "Python 3",
   "language": "python",
   "name": "python3"
  },
  "language_info": {
   "codemirror_mode": {
    "name": "ipython",
    "version": 3
   },
   "file_extension": ".py",
   "mimetype": "text/x-python",
   "name": "python",
   "nbconvert_exporter": "python",
   "pygments_lexer": "ipython3",
   "version": "3.8.8"
  }
 },
 "nbformat": 4,
 "nbformat_minor": 5
}
