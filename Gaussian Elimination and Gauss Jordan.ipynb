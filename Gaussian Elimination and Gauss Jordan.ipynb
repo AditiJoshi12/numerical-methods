{
 "cells": [
  {
   "cell_type": "code",
   "execution_count": 1,
   "id": "d45c5465",
   "metadata": {},
   "outputs": [],
   "source": [
    "# Gaussian Elimination\n",
    "# Gauss Jordan Method\n",
    "\n","#importing libraries\n",
    "\n",
    "import numpy as np"    
   ]
  },
  {
   "cell_type": "code",
   "execution_count": 2,
   "id": "4e60cd4c",
   "metadata": {},
   "outputs": [
    {
     "name": "stdout",
     "output_type": "stream",
     "text": [
      "[[  3.    -0.1   -0.2    7.85]\n",
      " [  0.1    7.    -0.3  -19.3 ]\n",
      " [  0.3   -0.2   10.    71.4 ]]\n",
      "3\n"
     ]
    }
   ],
   "source": [
    "#please edit the matrix below to change the matrix\n",
    "\n",
    "a = np.array([[3.0,-0.1,-0.2,7.85],[0.1,7.0,-0.3,-19.3],[0.3,-0.2,10.0,71.4]])\n",
    "print(a)\n",
    "\n",
    "n = len(a)\n",
    "\n",
    "print(n)"
   ]
  },
  {
   "cell_type": "code",
   "execution_count": 47,
   "id": "8202c927",
   "metadata": {},
   "outputs": [],
   "source": [
    "def gaussianelim(a):\n",
    "    \n",
    "    A = a.copy()\n",
    "\n",
    "    #initialize x\n",
    "    x = np.zeros(n)\n",
    "\n",
    "    for i in range(n):\n",
    "        if A[i][i] != 0.0:           \n",
    "            for j in range(i+1, n):\n",
    "                factor = A[j][i]/A[i][i]        \n",
    "                A[j] -= factor * A[i]\n",
    "\n",
    "    # Back Substitution\n",
    "    x[n-1] = A[n-1][n]/A[n-1][n-1]\n",
    "\n",
    "    for i in range(n-2,-1,-1):\n",
    "        x[i] = A[i][n]    \n",
    "        for j in range(i+1,n):\n",
    "            x[i] -= A[i][j]*x[j]\n",
    "    \n",
    "        x[i] /= A[i][i]\n",
    "    \n",
    "    return x"
   ]
  },
  {
   "cell_type": "code",
   "execution_count": 48,
   "id": "e139b284",
   "metadata": {},
   "outputs": [
    {
     "name": "stdout",
     "output_type": "stream",
     "text": [
      "X1 = 3.000000\tX2 = -2.500000\tX3 = 7.000000\t"
     ]
    }
   ],
   "source": [
    "#Solution using Gaussian Elimination Method\n",
    "\n",
    "x = gaussianelim(a)\n",
    "\n",
    "#we can also return the changed matrix A in the function and print it\n",
    "\n",
    "#print the solution\n",
    "for i in range(n):\n",
    "    print('X%d = %0.6f' %(i+1,x[i]), end = '\\t')"
   ]
  },
  {
   "cell_type": "code",
   "execution_count": 49,
   "id": "082b7469",
   "metadata": {},
   "outputs": [],
   "source": [
    "def gaussjordan(a):\n",
    "    \n",
    "    #copy a into another matrix so as to not change the input matrix\n",
    "    A = a.copy()\n",
    "    \n",
    "    #initialize x\n",
    "    x = np.zeros(n)\n",
    "    \n",
    "    for i in range(n):           \n",
    "        for j in range(n):\n",
    "            if i != j:\n",
    "                factor = A[j][i]/A[i][i]\n",
    "                A[j] -= factor * A[i]\n",
    "\n",
    "    # Obtaining Solution\n",
    "\n",
    "    for i in range(n):\n",
    "        x[i] = A[i][n]/A[i][i]\n",
    "        \n",
    "    return x"
   ]
  },
  {
   "cell_type": "code",
   "execution_count": 50,
   "id": "0a82807c",
   "metadata": {},
   "outputs": [
    {
     "name": "stdout",
     "output_type": "stream",
     "text": [
      "X1 = 3.000000\tX2 = -2.500000\tX3 = 7.000000\t"
     ]
    }
   ],
   "source": [
    "#Solution using Gauss Jordan Method\n",
    "\n",
    "x = gaussjordan(a)\n",
    "\n",
    "#we can also return the changed matrix A in the function and print it\n",
    "\n",
    "#print the solution\n",
    "for i in range(n):\n",
    "    print('X%d = %0.6f' %(i+1,x[i]), end = '\\t')"
   ]
  }
 ],
 "metadata": {
  "kernelspec": {
   "display_name": "Python 3",
   "language": "python",
   "name": "python3"
  },
  "language_info": {
   "codemirror_mode": {
    "name": "ipython",
    "version": 3
   },
   "file_extension": ".py",
   "mimetype": "text/x-python",
   "name": "python",
   "nbconvert_exporter": "python",
   "pygments_lexer": "ipython3",
   "version": "3.8.8"
  }
 },
 "nbformat": 4,
 "nbformat_minor": 5
}
